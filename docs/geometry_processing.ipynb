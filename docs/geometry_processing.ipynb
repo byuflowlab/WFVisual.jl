{
 "cells": [
  {
   "cell_type": "code",
   "execution_count": 122,
   "metadata": {},
   "outputs": [
    {
     "ename": "ErrorException",
     "evalue": "importing WFVisual into Main conflicts with an existing identifier",
     "output_type": "error",
     "traceback": [
      "importing WFVisual into Main conflicts with an existing identifier\n",
      "\n",
      "Stacktrace:\n",
      "  [1] eval\n",
      "    @ ./boot.jl:360 [inlined]\n",
      "  [2] include_string(mapexpr::typeof(REPL.softscope), mod::Module, code::String, filename::String)\n",
      "    @ Base ./loading.jl:1094\n",
      "  [3] #invokelatest#2\n",
      "    @ ./essentials.jl:708 [inlined]\n",
      "  [4] invokelatest\n",
      "    @ ./essentials.jl:706 [inlined]\n",
      "  [5] (::VSCodeServer.var\"#146#147\"{VSCodeServer.NotebookRunCellArguments, String})()\n",
      "    @ VSCodeServer ~/.vscode/extensions/julialang.language-julia-1.5.11/scripts/packages/VSCodeServer/src/serve_notebook.jl:18\n",
      "  [6] withpath(f::VSCodeServer.var\"#146#147\"{VSCodeServer.NotebookRunCellArguments, String}, path::String)\n",
      "    @ VSCodeServer ~/.vscode/extensions/julialang.language-julia-1.5.11/scripts/packages/VSCodeServer/src/repl.jl:185\n",
      "  [7] notebook_runcell_request(conn::VSCodeServer.JSONRPC.JSONRPCEndpoint{Base.PipeEndpoint, Base.PipeEndpoint}, params::VSCodeServer.NotebookRunCellArguments)\n",
      "    @ VSCodeServer ~/.vscode/extensions/julialang.language-julia-1.5.11/scripts/packages/VSCodeServer/src/serve_notebook.jl:14\n",
      "  [8] dispatch_msg(x::VSCodeServer.JSONRPC.JSONRPCEndpoint{Base.PipeEndpoint, Base.PipeEndpoint}, dispatcher::VSCodeServer.JSONRPC.MsgDispatcher, msg::Dict{String, Any})\n",
      "    @ VSCodeServer.JSONRPC ~/.vscode/extensions/julialang.language-julia-1.5.11/scripts/packages/JSONRPC/src/typed.jl:67\n",
      "  [9] serve_notebook(pipename::String; crashreporting_pipename::String)\n",
      "    @ VSCodeServer ~/.vscode/extensions/julialang.language-julia-1.5.11/scripts/packages/VSCodeServer/src/serve_notebook.jl:94\n",
      " [10] top-level scope\n",
      "    @ ~/.vscode/extensions/julialang.language-julia-1.5.11/scripts/notebook/notebook.jl:12\n",
      " [11] include(mod::Module, _path::String)\n",
      "    @ Base ./Base.jl:386\n",
      " [12] exec_options(opts::Base.JLOptions)\n",
      "    @ Base ./client.jl:285\n",
      " [13] _start()\n",
      "    @ Base ./client.jl:485"
     ]
    }
   ],
   "source": [
    "import CSV\n",
    "using PyPlot\n",
    "\n",
    "import GeometricTools\n",
    "gt = GeometricTools\n",
    "\n",
    "import WFVisual\n",
    "wfv = WFVisual\n",
    "\n",
    "module_path = splitdir(@__FILE__)[1]            # Path to this notebook\n",
    "data_path = joinpath(module_path, \"../data/\")   # Path to data files\n",
    "save_path = joinpath(module_path, \"../temps/\")  # Output path"
   ]
  },
  {
   "cell_type": "markdown",
   "metadata": {
    "heading_collapsed": true
   },
   "source": [
    "# Blade Geometry Description"
   ]
  },
  {
   "cell_type": "markdown",
   "metadata": {
    "hidden": true
   },
   "source": [
    "The following lines read the airfoil geometry as found in the data files:"
   ]
  },
  {
   "cell_type": "code",
   "execution_count": null,
   "metadata": {
    "hidden": true,
    "scrolled": false
   },
   "outputs": [],
   "source": [
    "# ------------ BLADE PARAMETERS -----------------------------------------\n",
    "blade_name = \"NREL5MW\"          # Blade identifier\n",
    "\n",
    "# ------------ DATA -----------------------------------------------------\n",
    "# Reads geometry from data files\n",
    "data_airfoil = CSV.read(joinpath(data_path, blade_name*\"_airfoilsections.csv\"))\n",
    "data_chord = CSV.read(joinpath(data_path, blade_name*\"_chord.csv\"))\n",
    "data_twist = CSV.read(joinpath(data_path, blade_name*\"_twist.csv\"))\n",
    "data_lex = CSV.read(joinpath(data_path, blade_name*\"_lex.csv\"))\n",
    "data_lez = CSV.read(joinpath(data_path, blade_name*\"_lez.csv\"))\n",
    "\n",
    "# Plots data\n",
    "fig = figure(figsize=(7*2,5*1))\n",
    "\n",
    "# LE x and z\n",
    "subplot(121)\n",
    "plot(data_lex[1], data_lex[2], \"--o\", label=\"LE x\")\n",
    "plot(data_lez[1], data_lez[2], \"-.^\", label=\"LE z\")\n",
    "xlim([0,1])\n",
    "xlabel(\"r/R\")\n",
    "ylabel(\"x/R, z/R\")\n",
    "PyPlot.grid(true, color=\"0.8\", linestyle=\"--\")\n",
    "legend(loc=\"best\")\n",
    "\n",
    "# Chord and twist\n",
    "subplot(122)\n",
    "p1 = plot(data_chord[1], data_chord[2], \"--^y\", label=\"Chord\")\n",
    "ylabel(\"c/R\")\n",
    "ylim([0, 1])\n",
    "yticks(collect(0:0.25:1))\n",
    "\n",
    "PyPlot.grid(true, color=\"0.8\", linestyle=\"--\")\n",
    "xlabel(\"r/R\")\n",
    "\n",
    "twinx()\n",
    "p2 = plot(data_twist[1], data_twist[2], \"-.ob\", label=\"Twist\")\n",
    "\n",
    "ylabel(\"Twist (deg)\")\n",
    "xlim([0,1])\n",
    "\n",
    "ps = [p2[1], p1[1]]\n",
    "legend(ps, [p[:get_label]() for p in ps], loc=\"best\")\n",
    "\n",
    "# Airfoils\n",
    "clrs = \"bgrycmk\"^Int(ceil(size(data_airfoil,1)/length(\"bgrycmk\")))\n",
    "for i in 1:size(data_airfoil,1)\n",
    "    airfoil = CSV.read(joinpath(data_path, \n",
    "                                \"airfoils/$(data_airfoil[2][i])\"))\n",
    "    x, y = [val for val in airfoil[1]], [val for val in airfoil[2]]\n",
    "    gt.plot_airfoil(x,y; label=\"r/R=$(data_airfoil[1][i])\", \n",
    "                                    style=\"-\"*clrs[i], zoom_factor=2)\n",
    "end"
   ]
  },
  {
   "cell_type": "code",
   "execution_count": null,
   "metadata": {
    "hidden": true
   },
   "outputs": [],
   "source": [
    "for data in [data_airfoil, data_chord, data_twist,\n",
    "                data_lex, data_lez]\n",
    "    display(data)\n",
    "end"
   ]
  },
  {
   "cell_type": "markdown",
   "metadata": {
    "hidden": true
   },
   "source": [
    "In order to loft the blade geometry, every airfoil cross section must have exactly the same amount of points. The following lines read the original airfoil sections, parameterizes them, and discretizes them into a uniform number of points, and saves them back as data files:"
   ]
  },
  {
   "cell_type": "code",
   "execution_count": null,
   "metadata": {
    "hidden": true,
    "scrolled": false
   },
   "outputs": [],
   "source": [
    "# Rediscretizes the airfoil sections for a uniform discretization\n",
    "# between sections\n",
    "N = 1                     # Resolution level\n",
    "NDIVS = [                 # Discretization sections\n",
    "          (0.20, 4*N, 5.0, false),\n",
    "          (0.50, 3*N, 1.0, false),\n",
    "          (0.20, 4*N, 1/5, false),\n",
    "        ]\n",
    "\n",
    "rfl_s = 0.00001             # Airfoil parameterization smoothing \n",
    "rfl_k = 4                   # Airfoil parameterization order\n",
    "\n",
    "# ----------------- AIRFOIL PARAMETERIZATION ---------------------------------\n",
    "done = []\n",
    "for i in 1:size(data_airfoil,1)\n",
    "    \n",
    "    file_name = String(data_airfoil[2][i])\n",
    "    \n",
    "    if file_name in done\n",
    "        nothing\n",
    "        \n",
    "    else    \n",
    "        # Reads the original airfoil geometry \n",
    "        org_x, org_y = gt.readcontour(file_name; header_len=1, delim=\",\",\n",
    "                                        path=joinpath(data_path, \"airfoils\"))\n",
    "\n",
    "        # Separate upper and lower sides to make the contour injective in x\n",
    "        upper, lower = gt.splitcontour(org_x, org_y)\n",
    "\n",
    "        # Parameterize both sides independently\n",
    "        fun_upper = gt.parameterize(upper[1], upper[2], zeros(upper[1]); inj_var=1,\n",
    "                                                            s=rfl_s, kspl=rfl_k)\n",
    "        fun_lower = gt.parameterize(lower[1], lower[2], zeros(lower[1]); inj_var=1,\n",
    "                                                            s=rfl_s, kspl=rfl_k)\n",
    "\n",
    "        # Discretizes both sides\n",
    "        new_upper = gt.multidiscretize(fun_upper, 0, 1, NDIVS)\n",
    "        new_lower = gt.multidiscretize(fun_lower, 0, 1, NDIVS)\n",
    "\n",
    "        # Merges sides back together\n",
    "        points = vcat(reverse(new_upper), new_lower)\n",
    "\n",
    "        # Saves new contours into data path\n",
    "        f = open(joinpath(data_path, \"airfoils/$(blade_name)_$file_name\"), \"w\")\n",
    "        print(f, \"x/c,y/c\\n\")\n",
    "        for (x,y) in points\n",
    "            print(f, x, \",\", y, \"\\n\")\n",
    "        end\n",
    "        close(f)\n",
    "\n",
    "        # Plots\n",
    "        new_x = [p[1] for p in points]\n",
    "        new_y = [p[2] for p in points]\n",
    "\n",
    "        title_str = \"$file_name, r/R=$(data_airfoil[1][i])\"\n",
    "        gt.plot_airfoil(org_x, org_y; title_str=title_str, label=\"Original\", \n",
    "                                        style=\"--^k\", zoom_factor=1, alpha=0.5)\n",
    "        gt.plot_airfoil(new_x, new_y; title_str=title_str, label=\"Parameterized\", \n",
    "                                        style=\":.b\", zoom_factor=1)\n",
    "        \n",
    "        push!(done, file_name)\n",
    "    end\n",
    "end"
   ]
  },
  {
   "cell_type": "markdown",
   "metadata": {
    "heading_collapsed": true
   },
   "source": [
    "# Blade Model"
   ]
  },
  {
   "cell_type": "markdown",
   "metadata": {
    "hidden": true
   },
   "source": [
    "<img src=\"vid/blade00.gif\" alt=\"Vid here\" style=\"width: 800px;\"/>"
   ]
  },
  {
   "cell_type": "markdown",
   "metadata": {
    "hidden": true
   },
   "source": [
    "The following method reads all the data files shown in the previous section, and generates a lofted geometry from the data."
   ]
  },
  {
   "cell_type": "code",
   "execution_count": null,
   "metadata": {
    "hidden": true
   },
   "outputs": [],
   "source": [
    "# ------------ BLADE PARAMETERS -----------------------------------------\n",
    "blade_name = \"NREL5MW\"          # Blade identifier\n",
    "# Rtip = 25.0                  # (m) blade radius\n",
    "# Rhub = 1.0                   # (m) hub radius\n",
    "Rtip = 1.0              # Here I'm setting the radius to unity for a normalized geometry                 \n",
    "Rhub = Rtip/20                   \n",
    "r_NDIVS = 25                   # Number of cells along blade\n",
    "\n",
    "\n",
    "# Generate blade grid\n",
    "blade_grid = wfv.generate_blade(Rtip, 0.0, r_NDIVS, blade_name; \n",
    "                    data_path=data_path, save_path=save_path);\n",
    "\n",
    "# Align center of first cross section with origin\n",
    "Xoff = [-Rtip*data_chord[1, 2]/2, 0, 0]\n",
    "gt.lintransform!(blade_grid, eye(3), Xoff)\n",
    "\n",
    "# Saves the gridded geometry as a jld\n",
    "JLD.save(joinpath(data_path, \"$blade_name.jld\"), \"blade_grid\", blade_grid)"
   ]
  },
  {
   "cell_type": "markdown",
   "metadata": {},
   "source": [
    "# Hub Model"
   ]
  },
  {
   "cell_type": "markdown",
   "metadata": {},
   "source": [
    "<img src=\"vid/hub00.gif\" alt=\"Vid here\" style=\"width: 800px;\"/>"
   ]
  },
  {
   "cell_type": "markdown",
   "metadata": {},
   "source": [
    "Here I define the contour of revolution of the hub:"
   ]
  },
  {
   "cell_type": "code",
   "execution_count": null,
   "metadata": {},
   "outputs": [],
   "source": [
    "Rhub = Rhub                 # (m) radius of hub\n",
    "Thub = 8*Rhub               # (m) thickness of hub\n",
    "Rfillet = Rhub              # (m) Fillet radius\n",
    "Nfillet = 8                 # Points along fillet\n",
    "Cfillet = [Rhub, Thub]-Rfillet      # Center of fillet\n",
    "\n",
    "points_fillet = [Cfillet + Rfillet*[sin(a), cos(a)] \n",
    "                        for a in linspace(0,pi/2,Nfillet)]\n",
    "\n",
    "points = vcat(\n",
    "              [[0, Thub]],\n",
    "              points_fillet,\n",
    "              [[Rhub, 0],\n",
    "              [0, 0],]\n",
    "             )\n",
    "\n",
    "x = [p[1] for p in points]\n",
    "y = [p[2] for p in points]\n",
    "\n",
    "figure(figsize=(5,5))\n",
    "plot(x,y, \"--ok\")\n",
    "plot([Cfillet[1]], [Cfillet[2]], \"xr\")\n",
    "xlim([0, Thub*1.25])\n",
    "ylim([-Thub*0.125, Thub*1.125])"
   ]
  },
  {
   "cell_type": "markdown",
   "metadata": {},
   "source": [
    "Now we generate the body of revolution:"
   ]
  },
  {
   "cell_type": "code",
   "execution_count": null,
   "metadata": {
    "hideOutput": true
   },
   "outputs": [],
   "source": [
    "paraview = true\n",
    "file_name = \"hub\"\n",
    "\n",
    "# First coordinate is a map to the points in the countor of revolution\n",
    "# Seciond coordinate is the angle of revolution\n",
    "# Third is a dummy\n",
    "NDIVS = [size(points,1), 36, 0]     # Divisions in every coordinate\n",
    "P_min = [0, 0, 0]                   # Lower boundaries \n",
    "P_max = [1, 360, 0 ]                # Upper boundaries\n",
    "loop_dim = 1                        # Loops the countour of revolution\n",
    "\n",
    "hub_grid = gt.Grid(P_min, P_max, NDIVS, loop_dim)\n",
    "\n",
    "# Space transformation function\n",
    "function my_space_transform(X, ind)\n",
    "    p_ind = ind[1]                  # Point index\n",
    "    angle = X[2]                    # (deg) angle\n",
    "    \n",
    "    # Places the contour in the ZX-plane\n",
    "    point = [points[p_ind][1], 0, points[p_ind][2]]\n",
    "    \n",
    "    # Rotates the contour around the Z-axis        \n",
    "    return gt.axis_rotation(Float64[0,0,1], Float64(angle))*point\n",
    "end\n",
    "\n",
    "# Applies the space transformation to the parametric grid\n",
    "gt.transform3!(hub_grid, my_space_transform)\n",
    "\n",
    "# Splits the quadrialateral panels into triangles\n",
    "dimsplit = 2              # Dimension along which to split\n",
    "hub_grid = gt.GridTriangleSurface(hub_grid, dimsplit)\n",
    "\n",
    "# Saves the gridded geometry as a jld\n",
    "JLD.save(joinpath(data_path, \"$file_name.jld\"), \"hub_grid\", hub_grid, \n",
    "                                        \"Rhub\", Rhub, \"Thub\", Thub)\n",
    "\n",
    "if save_path!=nothing\n",
    "  # Outputs a vtk file\n",
    "  gt.save(hub_grid, file_name; path=save_path)\n",
    "\n",
    "  if paraview\n",
    "    # Calls paraview\n",
    "    run(`paraview --data=$save_path$file_name.vtk`)\n",
    "  end\n",
    "end"
   ]
  },
  {
   "cell_type": "markdown",
   "metadata": {
    "heading_collapsed": true
   },
   "source": [
    "# Tower Model"
   ]
  },
  {
   "cell_type": "markdown",
   "metadata": {
    "hidden": true
   },
   "source": [
    "<img src=\"vid/tower00.gif\" alt=\"Vid here\" style=\"width: 800px;\"/>"
   ]
  },
  {
   "cell_type": "code",
   "execution_count": null,
   "metadata": {
    "hidden": true
   },
   "outputs": [],
   "source": [
    "file_name = \"tower1\"\n",
    "\n",
    "# ------------ GEOMETRY -------------------------------------------\n",
    "# h = 2*Rtip            # (m) height\n",
    "h = 1                  # Unitary height for a normalized geometry\n",
    "# h = 2             \n",
    "h_NDIVS = 1            # Number of cells from top to bottom\n",
    "c_NDIVS = 36           # Number of cells around the cross section\n",
    "\n",
    "c_bot = Rtip/8/h       # Chord at bottom cross section\n",
    "c_top = c_bot/2        # Chord at top cross section\n",
    "\n",
    "# Circular cross section\n",
    "cyl(a) = [cos(a)+1, sin(a)]/2\n",
    "circular = [cyl(a)[i] for a in linspace(0, 2*pi, c_NDIVS), i in 1:2]\n",
    "\n",
    "# Chord distribution\n",
    "chords = [0.0 c_bot;\n",
    "          1.0 c_top]\n",
    "\n",
    "# Twist distribution\n",
    "twists = [0.0 0;\n",
    "         1.0 0]\n",
    "\n",
    "# Leading edge position\n",
    "LE_x = [0.0 -c_bot/2;\n",
    "        1.0 -c_top/2]\n",
    "\n",
    "LE_z = [0.0 0;\n",
    "        1.0 0]\n",
    "\n",
    "# Cross sections\n",
    "crosssections = [(0.0, circular), \n",
    "                 (1.0, circular)]\n",
    "\n",
    "# ------------ LOFTED GEOMETRY -------------------------------------------\n",
    "tower_grid = wfv.generate_loft(h, 0, 1, h_NDIVS, \n",
    "                            chords, twists, LE_x, LE_z, crosssections;\n",
    "                            save_path=save_path, paraview=true,\n",
    "                            file_name=file_name\n",
    "                           ) \n",
    "\n",
    "# Saves the gridded geometry as a jld\n",
    "JLD.save(joinpath(data_path, \"$file_name.jld\"), \"tower_grid\", tower_grid, \"h\", h)"
   ]
  },
  {
   "cell_type": "markdown",
   "metadata": {
    "heading_collapsed": true
   },
   "source": [
    "# Wind Turbine Model"
   ]
  },
  {
   "cell_type": "markdown",
   "metadata": {
    "hidden": true
   },
   "source": [
    "<img src=\"vid/turbine00.gif\" alt=\"Vid here\" style=\"width: 800px;\"/>"
   ]
  },
  {
   "cell_type": "code",
   "execution_count": null,
   "metadata": {
    "hidden": true
   },
   "outputs": [],
   "source": [
    "this_Rtip = 126.0/2\n",
    "this_h = 120.0\n",
    "\n",
    "windturbine = wfv.generate_windturbine(this_Rtip, this_h, \"NREL5MW\", \"hub\", \"tower1\"; \n",
    "                                                    save_path=save_path, nblades=3);"
   ]
  },
  {
   "cell_type": "markdown",
   "metadata": {
    "heading_collapsed": true
   },
   "source": [
    "# Wind Farm Layout"
   ]
  },
  {
   "cell_type": "markdown",
   "metadata": {
    "hidden": true
   },
   "source": [
    "<img src=\"img/farm00.png\" alt=\"Pic here\" style=\"width: 800px;\"/>"
   ]
  },
  {
   "cell_type": "code",
   "execution_count": null,
   "metadata": {
    "collapsed": true,
    "hidden": true
   },
   "outputs": [],
   "source": [
    "this_save_path = joinpath(save_path, \"windfarm00\")\n",
    "gt.create_path(this_save_path, false)\n",
    "\n",
    "turbine_x = [  909.98349606,  1005.0174903 ,   900.40238835,  -479.57607866,\n",
    "                 937.92551703,   461.20472344,   123.06165965, -1073.3529325 ,\n",
    "                -698.76200523, -1083.53094471,  1365.9338773 ,   204.10557045,\n",
    "                 306.99725222,  -585.35767689,    10.9706543 ,   543.54927959,\n",
    "                 -20.50212678, -1313.07762466, -1327.00852816,   137.06316521,\n",
    "                1378.99410072,  -645.66250771,  -535.7876181 ,  -100.66538419,\n",
    "               -1331.29278587]\n",
    "\n",
    "turbine_y = [  500.59889721,  -974.65186327,    76.51586507,  1315.29789208,\n",
    "                1039.37304649, -1321.85187113,  -300.57817461,  -765.82650713,\n",
    "               -1213.14956771,   886.54973742,  -306.96866239,   194.51410928,\n",
    "                 735.69027357,    81.95252777,  -892.14222889,  -930.41798152,\n",
    "                 970.9117144 ,   398.75277565,    -3.52236011,  1393.27798468,\n",
    "                 241.61586052,  -791.92492366,   919.26560593, -1396.37638078,\n",
    "                -433.19849727]\n",
    "turbine_z = [ 0.,  0.,  0.,  0.,  0.,  0.,  0.,  0.,  0.,  0.,  0.,  0.,  0.,\n",
    "                0.,  0.,  0.,  0.,  0.,  0.,  0.,  0.,  0.,  0.,  0.,  0.]\n",
    "\n",
    "hub_height = [ 100.,  100.,  100.,  100.,  100.,  100.,  100.,  100.,  100.,\n",
    "                100.,  100.,  100.,  100.,  100.,  100.,  100.,  100.,  100.,\n",
    "                100.,  100.,  100.,  100.,  100.,  100.,  100.]\n",
    "\n",
    "rotor_diameter = [ 100.,  100.,  100.,  100.,  100.,  100.,  100.,  100.,  100.,\n",
    "                100.,  100.,  100.,  100.,  100.,  100.,  100.,  100.,  100.,\n",
    "                100.,  100.,  100.,  100.,  100.,  100.,  100.]\n",
    "\n",
    "nBlades = [3, 3, 3, 3, 3, 3, 3, 3, 3, 3, 3, 3, 3, 3, 3, 3, 3, 3, 3, 3, 3, 3, 3,\n",
    "               3, 3]\n",
    "\n",
    "wind_direction = 228.0\n",
    "\n",
    "yaw = [ 0.,  0.,  0.,  0.,  0.,  0.,  0.,  0.,  0.,  0.,  0.,  0.,  0.,\n",
    "        0.,  0.,  0.,  0.,  0.,  0.,  0.,  0.,  0.,  0.,  0.,  0.] - wind_direction\n",
    "\n",
    "wfv.generate_layout(rotor_diameter, hub_height, nBlades,\n",
    "                                turbine_x, turbine_y, turbine_z,\n",
    "                                yaw; save_path=this_save_path);"
   ]
  },
  {
   "cell_type": "markdown",
   "metadata": {
    "heading_collapsed": true
   },
   "source": [
    "# Perimeter"
   ]
  },
  {
   "cell_type": "markdown",
   "metadata": {
    "hidden": true
   },
   "source": [
    "<img src=\"img/perimeter00.png\" alt=\"Pic here\" style=\"width: 800px;\"/>"
   ]
  },
  {
   "cell_type": "code",
   "execution_count": null,
   "metadata": {
    "hidden": true
   },
   "outputs": [],
   "source": [
    "NDIVSx = 100            # Cells in the parametric x-direction\n",
    "NDIVSy = 100            # Cells in the parametric y-direction\n",
    "NDIVSz = 0              # Cells in the geometric z-direction\n",
    "\n",
    "perimeter_points = [\n",
    "       [  1.50000000e+03,   0.00000000e+00,   0.00000000e+00],\n",
    "       [  1.44888874e+03,   3.88228568e+02,   0.00000000e+00],\n",
    "       [  1.29903811e+03,   7.50000000e+02,   0.00000000e+00],\n",
    "       [  1.06066017e+03,   1.06066017e+03,   0.00000000e+00],\n",
    "       [  7.50000000e+02,   1.29903811e+03,   0.00000000e+00],\n",
    "       [  3.88228568e+02,   1.44888874e+03,   0.00000000e+00],\n",
    "       [  9.18485099e-14,   1.50000000e+03,   0.00000000e+00],\n",
    "       [ -3.88228568e+02,   1.44888874e+03,   0.00000000e+00],\n",
    "       [ -7.50000000e+02,   1.29903811e+03,   0.00000000e+00],\n",
    "       [ -1.06066017e+03,   1.06066017e+03,   0.00000000e+00],\n",
    "       [ -1.29903811e+03,   7.50000000e+02,   0.00000000e+00],\n",
    "       [ -1.44888874e+03,   3.88228568e+02,   0.00000000e+00],\n",
    "       [ -1.50000000e+03,   1.83697020e-13,   0.00000000e+00],\n",
    "       [ -1.44888874e+03,  -3.88228568e+02,   0.00000000e+00],\n",
    "       [ -1.29903811e+03,  -7.50000000e+02,   0.00000000e+00],\n",
    "       [ -1.06066017e+03,  -1.06066017e+03,   0.00000000e+00],\n",
    "       [ -7.50000000e+02,  -1.29903811e+03,   0.00000000e+00],\n",
    "       [ -3.88228568e+02,  -1.44888874e+03,   0.00000000e+00],\n",
    "       [ -2.75545530e-13,  -1.50000000e+03,   0.00000000e+00],\n",
    "       [  3.88228568e+02,  -1.44888874e+03,   0.00000000e+00],\n",
    "       [  7.50000000e+02,  -1.29903811e+03,   0.00000000e+00],\n",
    "       [  1.06066017e+03,  -1.06066017e+03,   0.00000000e+00],\n",
    "       [  1.29903811e+03,  -7.50000000e+02,   0.00000000e+00],\n",
    "       [  1.44888874e+03,  -3.88228568e+02,   0.00000000e+00],\n",
    "       [  1.50000000e+03,  -3.67394040e-13,   0.00000000e+00]\n",
    "    ]\n",
    "\n",
    "\n",
    "wfv.generate_perimetergrid(perimeter_points, NDIVSx, NDIVSy, NDIVSz; save_path=save_path);"
   ]
  },
  {
   "cell_type": "code",
   "execution_count": null,
   "metadata": {
    "hidden": true
   },
   "outputs": [],
   "source": [
    "NDIVSx = 100\n",
    "NDIVSy = 100\n",
    "NDIVSz = 0\n",
    "\n",
    "perimeter_points = [ [cos(a), sin(a), 0] for a in linspace(0, 2*pi, 179)]\n",
    "\n",
    "wfv.generate_perimetergrid(perimeter_points, NDIVSx, NDIVSy, NDIVSz; save_path=save_path);"
   ]
  },
  {
   "cell_type": "markdown",
   "metadata": {
    "heading_collapsed": true
   },
   "source": [
    "# Fluid Domain"
   ]
  },
  {
   "cell_type": "markdown",
   "metadata": {
    "hidden": true
   },
   "source": [
    "<img src=\"img/perimeter01.png\" alt=\"Pic here\" style=\"width: 800px;\"/>"
   ]
  },
  {
   "cell_type": "code",
   "execution_count": null,
   "metadata": {
    "hidden": true
   },
   "outputs": [],
   "source": [
    "NDIVSx = 20              # Cells in the parametric x-direction\n",
    "NDIVSy = 20              # Cells in the parametric y-direction\n",
    "NDIVSz = 20              # Cells in the geometric z-direction\n",
    "\n",
    "z_min = 0.0              # Lower bound of z-direction\n",
    "z_max = 1.0              # Upper bound of z-direction\n",
    "\n",
    "perimeter_points = [ [cos(a), sin(a), 0] for a in linspace(0, 2*pi, 179)]\n",
    "\n",
    "fdom_grid = wfv.generate_perimetergrid(perimeter_points, NDIVSx, NDIVSy, NDIVSz; \n",
    "                                        z_min=z_min, z_max=z_max, save_path=save_path);"
   ]
  },
  {
   "cell_type": "markdown",
   "metadata": {
    "hidden": true
   },
   "source": [
    "<img src=\"img/fdom02.png\" alt=\"Pic here\" style=\"width: 800px;\"/>"
   ]
  },
  {
   "cell_type": "code",
   "execution_count": null,
   "metadata": {
    "hidden": true
   },
   "outputs": [],
   "source": [
    "reload(\"GeometricTools\")\n",
    "include(\"../src/WFVisual.jl\")\n",
    "wfv = WFVisual\n",
    "\n",
    "# perimeter_points = [ [0, 0, 0],\n",
    "#                      [1, 0, 0],\n",
    "#                      [1, 1, 0],\n",
    "#                      [0, 1, 0],\n",
    "#                      [0, 0, 0]]\n",
    "\n",
    "\n",
    "# perimeter_points = [ [1, 0, 0],\n",
    "#                      [0.5, 1, 0],\n",
    "#                      [0, 1, 0],\n",
    "#                      [-1, 0, 0],\n",
    "#                      [0, -1, 0],\n",
    "#                      [1, 0, 0]]\n",
    "\n",
    "\n",
    "perimeter_points = [ [-0.25, 0.5, 0],\n",
    "                        [0, 0, 0],\n",
    "                     [0.5, -0.25, 0],\n",
    "                     [1, 0, 0],\n",
    "                     [1.25, 0.5, 0],\n",
    "                     [1, 1, 0],\n",
    "                     [0.5, 1.25, 0],\n",
    "                     [0, 1, 0],\n",
    "                     [-0.25, 0.5, 0]]\n",
    "\n",
    "\n",
    "fdom_grid = wfv.generate_perimetergrid(perimeter_points, NDIVSx, NDIVSy, NDIVSz; \n",
    "                                        z_min=z_min, z_max=z_max, save_path=save_path);"
   ]
  },
  {
   "cell_type": "code",
   "execution_count": null,
   "metadata": {
    "hidden": true
   },
   "outputs": [],
   "source": [
    "perimeter_points"
   ]
  },
  {
   "cell_type": "code",
   "execution_count": null,
   "metadata": {
    "hidden": true
   },
   "outputs": [],
   "source": [
    "perimeter_points = [ [2*cos(a), sin(a), 0] for a in linspace(0, 2*pi, 179)]\n",
    "\n",
    "fdom_grid = wfv.generate_perimetergrid(perimeter_points, NDIVSx, NDIVSy, NDIVSz; \n",
    "                                        z_min=z_min, z_max=z_max, save_path=save_path,\n",
    "                                        spl_k=2);"
   ]
  },
  {
   "cell_type": "markdown",
   "metadata": {
    "heading_collapsed": true
   },
   "source": [
    "# Complete Visualization"
   ]
  },
  {
   "cell_type": "markdown",
   "metadata": {
    "hidden": true
   },
   "source": [
    "<img src=\"img/farm02.png\" alt=\"Pic here\" style=\"width: 800px;\"/>\n",
    "<img src=\"img/farm03.png\" alt=\"Pic here\" style=\"width: 800px;\"/>"
   ]
  },
  {
   "cell_type": "code",
   "execution_count": null,
   "metadata": {
    "hidden": true
   },
   "outputs": [],
   "source": [
    "include(\"../src/WFVisual.jl\")\n",
    "wfv = WFVisual\n",
    "\n",
    "this_save_path = joinpath(save_path, \"windfarm01\")\n",
    "gt.create_path(this_save_path, false)\n",
    "\n",
    "\n",
    "# --------------------- WIND FARM LAYOUT ---------------------------------------------\n",
    "turbine_x = [  909.98349606,  1005.0174903 ,   900.40238835,  -479.57607866,\n",
    "                 937.92551703,   461.20472344,   123.06165965, -1073.3529325 ,\n",
    "                -698.76200523, -1083.53094471,  1365.9338773 ,   204.10557045,\n",
    "                 306.99725222,  -585.35767689,    10.9706543 ,   543.54927959,\n",
    "                 -20.50212678, -1313.07762466, -1327.00852816,   137.06316521,\n",
    "                1378.99410072,  -645.66250771,  -535.7876181 ,  -100.66538419,\n",
    "               -1331.29278587]\n",
    "\n",
    "turbine_y = [  500.59889721,  -974.65186327,    76.51586507,  1315.29789208,\n",
    "                1039.37304649, -1321.85187113,  -300.57817461,  -765.82650713,\n",
    "               -1213.14956771,   886.54973742,  -306.96866239,   194.51410928,\n",
    "                 735.69027357,    81.95252777,  -892.14222889,  -930.41798152,\n",
    "                 970.9117144 ,   398.75277565,    -3.52236011,  1393.27798468,\n",
    "                 241.61586052,  -791.92492366,   919.26560593, -1396.37638078,\n",
    "                -433.19849727]\n",
    "turbine_z = [ 0.,  0.,  0.,  0.,  0.,  0.,  0.,  0.,  0.,  0.,  0.,  0.,  0.,\n",
    "                0.,  0.,  0.,  0.,  0.,  0.,  0.,  0.,  0.,  0.,  0.,  0.]\n",
    "\n",
    "hub_height = [ 100.,  100.,  100.,  100.,  100.,  100.,  100.,  100.,  100.,\n",
    "                100.,  100.,  100.,  100.,  100.,  100.,  100.,  100.,  100.,\n",
    "                100.,  100.,  100.,  100.,  100.,  100.,  100.]\n",
    "\n",
    "rotor_diameter = [ 100.,  100.,  100.,  100.,  100.,  100.,  100.,  100.,  100.,\n",
    "                100.,  100.,  100.,  100.,  100.,  100.,  100.,  100.,  100.,\n",
    "                100.,  100.,  100.,  100.,  100.,  100.,  100.]\n",
    "\n",
    "nBlades = [3, 3, 3, 3, 3, 3, 3, 3, 3, 3, 3, 3, 3, 3, 3, 3, 3, 3, 3, 3, 3, 3, 3,\n",
    "               3, 3]\n",
    "\n",
    "wind_direction = 228.0\n",
    "\n",
    "yaw = [ 0.,  0.,  0.,  0.,  0.,  0.,  0.,  0.,  0.,  0.,  0.,  0.,  0.,\n",
    "        0.,  0.,  0.,  0.,  0.,  0.,  0.,  0.,  0.,  0.,  0.,  0.] - wind_direction\n",
    "\n",
    "\n",
    "# --------------------- PERIMETER AND FLUID DOMAIN --------------------------------------------\n",
    "\n",
    "NDIVSx = 70              # Cells in the parametric x-direction\n",
    "NDIVSy = 70              # Cells in the parametric y-direction\n",
    "NDIVSz = 70              # Cells in the geometric z-direction\n",
    "\n",
    "# Dummy perimeter\n",
    "Rper = norm(maximum.([turbine_x, turbine_y]) - minimum.([turbine_x, turbine_y]))/2*3/4\n",
    "perimeter_points = Rper*[ [cos(a), sin(a), 0] for a in linspace(0, 2*pi, 179)]\n",
    "\n",
    "# Dummy wake function\n",
    "wake(X) = 1.0*[cos(wind_direction*pi/180), sin(wind_direction*pi/180), 0]\n",
    "\n",
    "\n",
    "# --------------------- GENERATE WIND FARM ----------------------------------------------------\n",
    "\n",
    "wfv.generate_windfarm(rotor_diameter, hub_height, nBlades,\n",
    "                                turbine_x, turbine_y, turbine_z,\n",
    "                                yaw,\n",
    "                                perimeter_points, wake; \n",
    "                                NDIVSx=NDIVSx, NDIVSy=NDIVSy, NDIVSz=NDIVSz, \n",
    "                                save_path=this_save_path);"
   ]
  }
 ],
 "metadata": {
  "@webio": {
   "lastCommId": null,
   "lastKernelId": null
  },
  "hide_input": false,
  "kernelspec": {
   "display_name": "Julia 1.6.0",
   "language": "julia",
   "name": "julia-1.6"
  },
  "language_info": {
   "file_extension": ".jl",
   "mimetype": "application/julia",
   "name": "julia",
   "version": "1.6.0"
  }
 },
 "nbformat": 4,
 "nbformat_minor": 2
}
